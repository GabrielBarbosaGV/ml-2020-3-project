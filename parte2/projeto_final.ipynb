{
 "cells": [
  {
   "cell_type": "markdown",
   "metadata": {},
   "source": [
    "# CIn UFPE - IF699 2020.3\n",
    "\n",
    "Grupo:\n",
    "\n",
    "- Adilson Angelo (aasj2)\n",
    "- Ayrton Lira (abl2)\n",
    "- Gabriel Barbosa (gbgv)"
   ]
  },
  {
   "cell_type": "code",
   "execution_count": 65,
   "metadata": {
    "id": "GsdYpV_qY3Gd"
   },
   "outputs": [],
   "source": [
    "import pandas as pd\n",
    "from tqdm.notebook import tqdm"
   ]
  },
  {
   "cell_type": "code",
   "execution_count": 2,
   "metadata": {
    "id": "uB9Xhrc7Y3Ge"
   },
   "outputs": [],
   "source": [
    "columns = ['age',\n",
    "           'workclass',\n",
    "           'fnlwgt',\n",
    "           'education',\n",
    "           'education-num',\n",
    "           'marital-status',\n",
    "           'occupation',\n",
    "           'relationship',\n",
    "           'race',\n",
    "           'sex',\n",
    "           'capital-gain',\n",
    "           'capital-loss',\n",
    "           'hours-per-week',\n",
    "           'native-country',\n",
    "           'year-income']"
   ]
  },
  {
   "cell_type": "code",
   "execution_count": 3,
   "metadata": {
    "id": "poy7d_fPY3Ge"
   },
   "outputs": [],
   "source": [
    "df = pd.read_csv('https://raw.githubusercontent.com/GabrielBarbosaGV/ml-2020-3-project/pt2/parte2/data/adult.data', header=None)\n",
    "df_test = pd.read_csv('https://raw.githubusercontent.com/GabrielBarbosaGV/ml-2020-3-project/pt2/parte2/data/adult.test', header=None)"
   ]
  },
  {
   "cell_type": "code",
   "execution_count": 4,
   "metadata": {
    "id": "uoeVE7zzY3Ge"
   },
   "outputs": [],
   "source": [
    "df.columns = columns\n",
    "df_test.columns = columns"
   ]
  },
  {
   "cell_type": "markdown",
   "metadata": {
    "id": "_P5cdS7oY3Ge"
   },
   "source": [
    "## Business Understanding\n",
    "\n",
    "[Census Income](https://archive.ics.uci.edu/ml/datasets/census+income)\n",
    "\n",
    "Dados de um censo de 1994 para correlacionar a renda anual de um indivíduo com diversos fatores condicionais de seu ambiente\n",
    "\n",
    "> \"Extraction was done by Barry Becker from the 1994 Census database\"\n",
    "\n",
    "> \"Prediction task is to determine whether a person makes over 50K a year.\"\n",
    "\n",
    "## Data Understanding\n",
    "\n",
    "- O conjunto de treinamento possui 32561 instâncias e 15 atributos, sendo 1 deles atributo de classe (year-income)\n",
    "- O conjunto de teste possui metade do número de instâncias do conjunto de treinamento\n"
   ]
  },
  {
   "cell_type": "code",
   "execution_count": 5,
   "metadata": {
    "colab": {
     "base_uri": "https://localhost:8080/"
    },
    "id": "I0y3SX9pY3Ge",
    "outputId": "129fa447-aad5-431c-c2ef-535eaaf16f99"
   },
   "outputs": [
    {
     "name": "stdout",
     "output_type": "stream",
     "text": [
      "(32561, 15)\n",
      "(16281, 15)\n"
     ]
    }
   ],
   "source": [
    "print(df.shape)\n",
    "print(df_test.shape)"
   ]
  },
  {
   "cell_type": "markdown",
   "metadata": {
    "id": "NJxSh7omaoLm"
   },
   "source": [
    "- Os atributos são multivariados, possuem booleanos, discretos, categóricos, etc\n",
    "\n",
    "**age** -> discreto: idade do individuo\n",
    "\n",
    "**workclass** -> categorico: tipo de trabalho do individuo\n",
    "\n",
    "**fnlwgt** -> discreto: numero de pessoas no total que o censo acredita que esse individuo representa\n",
    "\n",
    "**education** -> categorico: nivel de educacao do individuo\n",
    "\n",
    "**education-num** -> discreto: nivel de educacao do individuo em valor numerico\n",
    "\n",
    "**marital-status** -> categorico: status matrimonial do individuo\n",
    "\n",
    "**occupation** -> categorico: cargo que o individuo exerce\n",
    "\n",
    "**relationship** -> categorico: tipo de relacionamento familiar que o individuo esta submetido\n",
    "\n",
    "**race** -> categorico: etnia\n",
    "\n",
    "**sex** -> booleano: genero binario do individuo\n",
    "\n",
    "**capital-gain** -> continuo: lucro obtido\n",
    "\n",
    "**capital-loss** -> continuo: prejuizo obtido\n",
    "\n",
    "**hours-per-week** -> continuo: horas de trabalho/semana\n",
    "\n",
    "**native-country** -> categorico: nacionalidade\n",
    "\n",
    "**year-income** -> booleano: renda anual do individuo"
   ]
  },
  {
   "cell_type": "markdown",
   "metadata": {
    "id": "wNoOQ4wEe2pD"
   },
   "source": [
    "## Prepare Data\n",
    "\n",
    "\"education\" e \"education-num\" representam a mesma coisa, o nível de educação do indivíduo, sendo que education é um dado categórico e não expressa gradação desses níveis. Optamos assim, por tirar a coluna \"education\" e deixar somente \"education-num\""
   ]
  },
  {
   "cell_type": "code",
   "execution_count": 6,
   "metadata": {
    "colab": {
     "base_uri": "https://localhost:8080/"
    },
    "id": "kqrE49mLbBj9",
    "outputId": "1761f820-e4a4-4a1c-f650-147bd79c5c46"
   },
   "outputs": [
    {
     "data": {
      "text/plain": [
       "education     education-num\n",
       "HS-grad       9                10501\n",
       "Some-college  10                7291\n",
       "Bachelors     13                5355\n",
       "Masters       14                1723\n",
       "Assoc-voc     11                1382\n",
       "11th          7                 1175\n",
       "Assoc-acdm    12                1067\n",
       "10th          6                  933\n",
       "7th-8th       4                  646\n",
       "Prof-school   15                 576\n",
       "9th           5                  514\n",
       "12th          8                  433\n",
       "Doctorate     16                 413\n",
       "5th-6th       3                  333\n",
       "1st-4th       2                  168\n",
       "Preschool     1                   51\n",
       "dtype: int64"
      ]
     },
     "execution_count": 6,
     "metadata": {},
     "output_type": "execute_result"
    }
   ],
   "source": [
    "df[['education', 'education-num']].value_counts()"
   ]
  },
  {
   "cell_type": "code",
   "execution_count": 7,
   "metadata": {
    "id": "vqBdkUN8frie"
   },
   "outputs": [],
   "source": [
    "df.drop(columns=['education'], inplace=True)"
   ]
  },
  {
   "cell_type": "markdown",
   "metadata": {
    "id": "qh5cmOHOgyt9"
   },
   "source": [
    "Como pode ser observado abaixo, os dados categóricos \"sex\" e \"year-income\" são booleanos por terem um domínio composto de apenas 2 valores possíveis. Eles serão os únicos atributos categóricos a não ser codificados com o One-Hot-Encoding"
   ]
  },
  {
   "cell_type": "code",
   "execution_count": 8,
   "metadata": {
    "colab": {
     "base_uri": "https://localhost:8080/"
    },
    "id": "JYy2Jp6GhOa5",
    "outputId": "d2dcd23b-c075-44c7-a3be-f29879e48291"
   },
   "outputs": [
    {
     "data": {
      "text/plain": [
       "<=50K    24720\n",
       ">50K      7841\n",
       "Name: year-income, dtype: int64"
      ]
     },
     "execution_count": 8,
     "metadata": {},
     "output_type": "execute_result"
    }
   ],
   "source": [
    "df['year-income'].value_counts()"
   ]
  },
  {
   "cell_type": "markdown",
   "metadata": {},
   "source": [
    "> as classes são desbalanceadas"
   ]
  },
  {
   "cell_type": "code",
   "execution_count": 9,
   "metadata": {
    "colab": {
     "base_uri": "https://localhost:8080/"
    },
    "id": "1iT_MzMDhUTk",
    "outputId": "e3ede4f3-ae6f-4d63-bc06-455af46c1d95"
   },
   "outputs": [
    {
     "data": {
      "text/plain": [
       "Male      21790\n",
       "Female    10771\n",
       "Name: sex, dtype: int64"
      ]
     },
     "execution_count": 9,
     "metadata": {},
     "output_type": "execute_result"
    }
   ],
   "source": [
    "df['sex'].value_counts()"
   ]
  },
  {
   "cell_type": "code",
   "execution_count": 10,
   "metadata": {
    "id": "gBYpuXoEhXt0"
   },
   "outputs": [],
   "source": [
    "df['>50k'] = df['year-income'].apply(lambda x: 0 if x == '<=50K' else 1)\n",
    "df.drop(columns=['year-income'], inplace=True)\n",
    "df['sex'] = df['sex'].apply(lambda x: 0 if x == 'Male' else 1)"
   ]
  },
  {
   "cell_type": "code",
   "execution_count": 11,
   "metadata": {
    "colab": {
     "base_uri": "https://localhost:8080/"
    },
    "id": "p4HoOt2ugdih",
    "outputId": "696c8c94-a70f-4189-be4c-1e10458a7aeb"
   },
   "outputs": [
    {
     "data": {
      "text/plain": [
       "age                int64\n",
       "workclass         object\n",
       "fnlwgt             int64\n",
       "education-num      int64\n",
       "marital-status    object\n",
       "occupation        object\n",
       "relationship      object\n",
       "race              object\n",
       "sex                int64\n",
       "capital-gain       int64\n",
       "capital-loss       int64\n",
       "hours-per-week     int64\n",
       "native-country    object\n",
       ">50k               int64\n",
       "dtype: object"
      ]
     },
     "execution_count": 11,
     "metadata": {},
     "output_type": "execute_result"
    }
   ],
   "source": [
    "df.dtypes"
   ]
  },
  {
   "cell_type": "markdown",
   "metadata": {
    "id": "JQwsqsJ9inFN"
   },
   "source": [
    "> Dada a natureza dos valores vazios no dataset (trabalho e nacionalidade), não acreditamos ser viável uma imputação. No one-hot-encoding esses valores ficarão apenas vazios"
   ]
  },
  {
   "cell_type": "code",
   "execution_count": 12,
   "metadata": {
    "colab": {
     "base_uri": "https://localhost:8080/",
     "height": 350
    },
    "id": "UWfyjWDva1mA",
    "outputId": "7710aee1-5b91-4340-d185-637234e55622"
   },
   "outputs": [
    {
     "data": {
      "text/plain": [
       "<AxesSubplot:>"
      ]
     },
     "execution_count": 12,
     "metadata": {},
     "output_type": "execute_result"
    },
    {
     "data": {
      "image/png": "[encoded data removed]",
      "text/plain": [
       "<Figure size 432x288 with 1 Axes>"
      ]
     },
     "metadata": {
      "needs_background": "light"
     },
     "output_type": "display_data"
    }
   ],
   "source": [
    "df.isna().sum().plot.bar()"
   ]
  },
  {
   "cell_type": "markdown",
   "metadata": {
    "id": "mkGz-SLwjk1o"
   },
   "source": [
    "#### One-Hot-Encoding"
   ]
  },
  {
   "cell_type": "code",
   "execution_count": 13,
   "metadata": {
    "colab": {
     "base_uri": "https://localhost:8080/",
     "height": 287
    },
    "id": "AMOJ8jDpY3Ge",
    "outputId": "b0b4ec3d-4753-4bbd-f8ce-c50909937124"
   },
   "outputs": [
    {
     "data": {
      "text/html": [
       "<div>\n",
       "<style scoped>\n",
       "    .dataframe tbody tr th:only-of-type {\n",
       "        vertical-align: middle;\n",
       "    }\n",
       "\n",
       "    .dataframe tbody tr th {\n",
       "        vertical-align: top;\n",
       "    }\n",
       "\n",
       "    .dataframe thead th {\n",
       "        text-align: right;\n",
       "    }\n",
       "</style>\n",
       "<table border=\"1\" class=\"dataframe\">\n",
       "  <thead>\n",
       "    <tr style=\"text-align: right;\">\n",
       "      <th></th>\n",
       "      <th>age</th>\n",
       "      <th>fnlwgt</th>\n",
       "      <th>education-num</th>\n",
       "      <th>sex</th>\n",
       "      <th>capital-gain</th>\n",
       "      <th>capital-loss</th>\n",
       "      <th>hours-per-week</th>\n",
       "      <th>&gt;50k</th>\n",
       "      <th>workclass_Federal-gov</th>\n",
       "      <th>workclass_Local-gov</th>\n",
       "      <th>...</th>\n",
       "      <th>native-country_Portugal</th>\n",
       "      <th>native-country_Puerto-Rico</th>\n",
       "      <th>native-country_Scotland</th>\n",
       "      <th>native-country_South</th>\n",
       "      <th>native-country_Taiwan</th>\n",
       "      <th>native-country_Thailand</th>\n",
       "      <th>native-country_Trinadad&amp;Tobago</th>\n",
       "      <th>native-country_United-States</th>\n",
       "      <th>native-country_Vietnam</th>\n",
       "      <th>native-country_Yugoslavia</th>\n",
       "    </tr>\n",
       "  </thead>\n",
       "  <tbody>\n",
       "    <tr>\n",
       "      <th>0</th>\n",
       "      <td>39</td>\n",
       "      <td>77516</td>\n",
       "      <td>13</td>\n",
       "      <td>0</td>\n",
       "      <td>2174</td>\n",
       "      <td>0</td>\n",
       "      <td>40</td>\n",
       "      <td>0</td>\n",
       "      <td>0</td>\n",
       "      <td>0</td>\n",
       "      <td>...</td>\n",
       "      <td>0</td>\n",
       "      <td>0</td>\n",
       "      <td>0</td>\n",
       "      <td>0</td>\n",
       "      <td>0</td>\n",
       "      <td>0</td>\n",
       "      <td>0</td>\n",
       "      <td>1</td>\n",
       "      <td>0</td>\n",
       "      <td>0</td>\n",
       "    </tr>\n",
       "    <tr>\n",
       "      <th>1</th>\n",
       "      <td>50</td>\n",
       "      <td>83311</td>\n",
       "      <td>13</td>\n",
       "      <td>0</td>\n",
       "      <td>0</td>\n",
       "      <td>0</td>\n",
       "      <td>13</td>\n",
       "      <td>0</td>\n",
       "      <td>0</td>\n",
       "      <td>0</td>\n",
       "      <td>...</td>\n",
       "      <td>0</td>\n",
       "      <td>0</td>\n",
       "      <td>0</td>\n",
       "      <td>0</td>\n",
       "      <td>0</td>\n",
       "      <td>0</td>\n",
       "      <td>0</td>\n",
       "      <td>1</td>\n",
       "      <td>0</td>\n",
       "      <td>0</td>\n",
       "    </tr>\n",
       "    <tr>\n",
       "      <th>2</th>\n",
       "      <td>38</td>\n",
       "      <td>215646</td>\n",
       "      <td>9</td>\n",
       "      <td>0</td>\n",
       "      <td>0</td>\n",
       "      <td>0</td>\n",
       "      <td>40</td>\n",
       "      <td>0</td>\n",
       "      <td>0</td>\n",
       "      <td>0</td>\n",
       "      <td>...</td>\n",
       "      <td>0</td>\n",
       "      <td>0</td>\n",
       "      <td>0</td>\n",
       "      <td>0</td>\n",
       "      <td>0</td>\n",
       "      <td>0</td>\n",
       "      <td>0</td>\n",
       "      <td>1</td>\n",
       "      <td>0</td>\n",
       "      <td>0</td>\n",
       "    </tr>\n",
       "    <tr>\n",
       "      <th>3</th>\n",
       "      <td>53</td>\n",
       "      <td>234721</td>\n",
       "      <td>7</td>\n",
       "      <td>0</td>\n",
       "      <td>0</td>\n",
       "      <td>0</td>\n",
       "      <td>40</td>\n",
       "      <td>0</td>\n",
       "      <td>0</td>\n",
       "      <td>0</td>\n",
       "      <td>...</td>\n",
       "      <td>0</td>\n",
       "      <td>0</td>\n",
       "      <td>0</td>\n",
       "      <td>0</td>\n",
       "      <td>0</td>\n",
       "      <td>0</td>\n",
       "      <td>0</td>\n",
       "      <td>1</td>\n",
       "      <td>0</td>\n",
       "      <td>0</td>\n",
       "    </tr>\n",
       "    <tr>\n",
       "      <th>4</th>\n",
       "      <td>28</td>\n",
       "      <td>338409</td>\n",
       "      <td>13</td>\n",
       "      <td>1</td>\n",
       "      <td>0</td>\n",
       "      <td>0</td>\n",
       "      <td>40</td>\n",
       "      <td>0</td>\n",
       "      <td>0</td>\n",
       "      <td>0</td>\n",
       "      <td>...</td>\n",
       "      <td>0</td>\n",
       "      <td>0</td>\n",
       "      <td>0</td>\n",
       "      <td>0</td>\n",
       "      <td>0</td>\n",
       "      <td>0</td>\n",
       "      <td>0</td>\n",
       "      <td>0</td>\n",
       "      <td>0</td>\n",
       "      <td>0</td>\n",
       "    </tr>\n",
       "  </tbody>\n",
       "</table>\n",
       "<p>5 rows × 89 columns</p>\n",
       "</div>"
      ],
      "text/plain": [
       "   age  fnlwgt  education-num  sex  capital-gain  capital-loss  \\\n",
       "0   39   77516             13    0          2174             0   \n",
       "1   50   83311             13    0             0             0   \n",
       "2   38  215646              9    0             0             0   \n",
       "3   53  234721              7    0             0             0   \n",
       "4   28  338409             13    1             0             0   \n",
       "\n",
       "   hours-per-week  >50k  workclass_Federal-gov  workclass_Local-gov  ...  \\\n",
       "0              40     0                      0                    0  ...   \n",
       "1              13     0                      0                    0  ...   \n",
       "2              40     0                      0                    0  ...   \n",
       "3              40     0                      0                    0  ...   \n",
       "4              40     0                      0                    0  ...   \n",
       "\n",
       "   native-country_Portugal  native-country_Puerto-Rico  \\\n",
       "0                        0                           0   \n",
       "1                        0                           0   \n",
       "2                        0                           0   \n",
       "3                        0                           0   \n",
       "4                        0                           0   \n",
       "\n",
       "   native-country_Scotland  native-country_South  native-country_Taiwan  \\\n",
       "0                        0                     0                      0   \n",
       "1                        0                     0                      0   \n",
       "2                        0                     0                      0   \n",
       "3                        0                     0                      0   \n",
       "4                        0                     0                      0   \n",
       "\n",
       "   native-country_Thailand  native-country_Trinadad&Tobago  \\\n",
       "0                        0                               0   \n",
       "1                        0                               0   \n",
       "2                        0                               0   \n",
       "3                        0                               0   \n",
       "4                        0                               0   \n",
       "\n",
       "   native-country_United-States  native-country_Vietnam  \\\n",
       "0                             1                       0   \n",
       "1                             1                       0   \n",
       "2                             1                       0   \n",
       "3                             1                       0   \n",
       "4                             0                       0   \n",
       "\n",
       "   native-country_Yugoslavia  \n",
       "0                          0  \n",
       "1                          0  \n",
       "2                          0  \n",
       "3                          0  \n",
       "4                          0  \n",
       "\n",
       "[5 rows x 89 columns]"
      ]
     },
     "execution_count": 13,
     "metadata": {},
     "output_type": "execute_result"
    }
   ],
   "source": [
    "one_hot_df = pd.get_dummies(df)\n",
    "\n",
    "one_hot_df.head()"
   ]
  },
  {
   "cell_type": "markdown",
   "metadata": {
    "id": "2L73Z9-cleF_"
   },
   "source": [
    "## Model data\n",
    "\n",
    "Com os dados prontos e limpos, vamos dar início à escolha dos melhores hiperparâmetros\n",
    "\n",
    "- Grid-Search + K-Fold estratificado em cada algoritmo no conjunto de treinamento para encontrar os melhores hiperparâmetros\n",
    "\n",
    "- Pegar os melhores modelos (algoritmo + hiperparâmetros) e executar novamente o KFold\n",
    "\n",
    "- Obter os resultados e métricas da execução com melhores modelos e plotar gráficos"
   ]
  },
  {
   "cell_type": "code",
   "execution_count": 49,
   "metadata": {
    "id": "2H_D6nyUv2Hw"
   },
   "outputs": [],
   "source": [
    "from sklearn.model_selection import GridSearchCV, StratifiedKFold\n",
    "from sklearn.neighbors import KNeighborsClassifier\n",
    "from sklearn.tree import DecisionTreeClassifier\n",
    "from sklearn.ensemble import RandomForestClassifier, VotingClassifier\n",
    "from sklearn.neural_network import MLPClassifier\n",
    "from sklearn.metrics import classification_report, f1_score"
   ]
  },
  {
   "cell_type": "markdown",
   "metadata": {},
   "source": [
    "Deve-se normalizar as colunas numéricas para o KNN"
   ]
  },
  {
   "cell_type": "code",
   "execution_count": 15,
   "metadata": {},
   "outputs": [],
   "source": [
    "norm = one_hot_df - one_hot_df.min() / (one_hot_df.max() - one_hot_df.min())"
   ]
  },
  {
   "cell_type": "code",
   "execution_count": 16,
   "metadata": {},
   "outputs": [],
   "source": [
    "CV_kwargs = {\n",
    "    'scoring': ['accuracy', 'roc_auc_ovr_weighted',\n",
    "                'precision_weighted', 'recall_weighted', 'f1_weighted'],\n",
    "    'refit': 'f1_weighted',\n",
    "    'cv': 10,\n",
    "    'n_jobs': 8\n",
    "}"
   ]
  },
  {
   "cell_type": "markdown",
   "metadata": {
    "id": "An9g1KZPs9vq"
   },
   "source": [
    "### KNN\n",
    "\n",
    "Para o KNN, optamos por colocar uma maior variedade de numero de vizinhos `[1, 25]` e checar todos os tipos de pesos possíveis para cada vizinho (uniforme ou baseado na distância)."
   ]
  },
  {
   "cell_type": "code",
   "execution_count": 17,
   "metadata": {},
   "outputs": [],
   "source": [
    "X_train = norm.drop(columns=['>50k'])\n",
    "y_train = norm['>50k']"
   ]
  },
  {
   "cell_type": "code",
   "execution_count": 18,
   "metadata": {},
   "outputs": [],
   "source": [
    "knn_args = {\n",
    "    'n_neighbors': [i for i in range(26)],\n",
    "    'weights': ('uniform', 'distance'),\n",
    "    'n_jobs': [-1]\n",
    "}\n",
    "\n",
    "knn = GridSearchCV(KNeighborsClassifier(), knn_args, **CV_kwargs)"
   ]
  },
  {
   "cell_type": "code",
   "execution_count": 19,
   "metadata": {},
   "outputs": [
    {
     "name": "stdout",
     "output_type": "stream",
     "text": [
      "CPU times: user 812 ms, sys: 133 ms, total: 946 ms\n",
      "Wall time: 15.4 s\n"
     ]
    },
    {
     "data": {
      "text/plain": [
       "GridSearchCV(cv=10, estimator=KNeighborsClassifier(), n_jobs=8,\n",
       "             param_grid={'n_jobs': [-1], 'n_neighbors': (3, 5, 10),\n",
       "                         'weights': ('uniform', 'distance')},\n",
       "             refit='f1_weighted',\n",
       "             scoring=['accuracy', 'roc_auc_ovr_weighted', 'precision_weighted',\n",
       "                      'recall_weighted', 'f1_weighted'])"
      ]
     },
     "execution_count": 19,
     "metadata": {},
     "output_type": "execute_result"
    }
   ],
   "source": [
    "%%time\n",
    "knn.fit(X_train, y_train)"
   ]
  },
  {
   "cell_type": "code",
   "execution_count": 20,
   "metadata": {},
   "outputs": [
    {
     "data": {
      "text/plain": [
       "{'n_jobs': -1, 'n_neighbors': 10, 'weights': 'distance'}"
      ]
     },
     "execution_count": 20,
     "metadata": {},
     "output_type": "execute_result"
    }
   ],
   "source": [
    "knn.best_params_"
   ]
  },
  {
   "cell_type": "markdown",
   "metadata": {},
   "source": [
    "### Decision Tree\n",
    "\n",
    "Na árvore de decisão, escolhemos entre gini e entropia como fator de decisão do melhor atributo em cada split; variamos o número mínimo de instâncias para split no intervalo `[2, 10]`, assim como o número mínimo de instâncias por nó folha entre `[1, 10]`; para a quantidade de atributos a serem analisados para o split utilizamos todas as opções possíveis `{None, sqrt, log2}` que são o número total de atributos, a raíz quadrada, o log desse número respectivamente; quanto ao hiperparâmetro \"class_weight\" deixamos como \"balanced\" por termos um desbalanceamento na nossa base de treino e esse parâmetro leva isso em conta"
   ]
  },
  {
   "cell_type": "code",
   "execution_count": 21,
   "metadata": {},
   "outputs": [],
   "source": [
    "X_train = one_hot_df.drop(columns=['>50k'])\n",
    "y_train = one_hot_df['>50k']"
   ]
  },
  {
   "cell_type": "code",
   "execution_count": 22,
   "metadata": {},
   "outputs": [],
   "source": [
    "tree_args = {\n",
    "    'criterion': ['gini', 'entropy'],\n",
    "    'min_samples_split': [i for i in range(2, 11)],\n",
    "    'min_samples_leaf': [i for i in range(1, 11)],\n",
    "    'max_features': ['sqrt', 'log2'],\n",
    "#     'max_features': [None, 'sqrt', 'log2'],\n",
    "    'class_weight': ['balanced'],\n",
    "    'random_state': [42]\n",
    "}\n",
    "\n",
    "tree = GridSearchCV(DecisionTreeClassifier(), tree_args, **CV_kwargs)"
   ]
  },
  {
   "cell_type": "code",
   "execution_count": 23,
   "metadata": {},
   "outputs": [
    {
     "name": "stdout",
     "output_type": "stream",
     "text": [
      "CPU times: user 12.6 s, sys: 1.5 s, total: 14.1 s\n",
      "Wall time: 1min 18s\n"
     ]
    },
    {
     "data": {
      "text/plain": [
       "GridSearchCV(cv=10, estimator=DecisionTreeClassifier(), n_jobs=8,\n",
       "             param_grid={'class_weight': ['balanced'],\n",
       "                         'criterion': ['gini', 'entropy'],\n",
       "                         'max_features': ['sqrt', 'log2'],\n",
       "                         'min_samples_leaf': [1, 2, 3, 4, 5, 6, 7, 8, 9, 10],\n",
       "                         'min_samples_split': [2, 3, 4, 5, 6, 7, 8, 9, 10],\n",
       "                         'random_state': [42]},\n",
       "             refit='f1_weighted',\n",
       "             scoring=['accuracy', 'roc_auc_ovr_weighted', 'precision_weighted',\n",
       "                      'recall_weighted', 'f1_weighted'])"
      ]
     },
     "execution_count": 23,
     "metadata": {},
     "output_type": "execute_result"
    }
   ],
   "source": [
    "%%time\n",
    "tree.fit(X_train, y_train)"
   ]
  },
  {
   "cell_type": "code",
   "execution_count": 24,
   "metadata": {},
   "outputs": [
    {
     "data": {
      "text/plain": [
       "{'class_weight': 'balanced',\n",
       " 'criterion': 'entropy',\n",
       " 'max_features': 'sqrt',\n",
       " 'min_samples_leaf': 1,\n",
       " 'min_samples_split': 2,\n",
       " 'random_state': 42}"
      ]
     },
     "execution_count": 24,
     "metadata": {},
     "output_type": "execute_result"
    }
   ],
   "source": [
    "tree.best_params_"
   ]
  },
  {
   "cell_type": "markdown",
   "metadata": {},
   "source": [
    "### Random Forest\n",
    "\n",
    "Para random forest repetimos a mesma linha de pensamento que na árvore de decisão"
   ]
  },
  {
   "cell_type": "code",
   "execution_count": 25,
   "metadata": {},
   "outputs": [],
   "source": [
    "X_train = one_hot_df.drop(columns=['>50k'])\n",
    "y_train = one_hot_df['>50k']"
   ]
  },
  {
   "cell_type": "code",
   "execution_count": 26,
   "metadata": {},
   "outputs": [],
   "source": [
    "forest_args = {\n",
    "    'criterion': ['gini'],\n",
    "#     'criterion': ['gini', 'entropy'],\n",
    "    'min_samples_split': [i for i in range(2, 11)],\n",
    "    'min_samples_leaf': [i for i in range(1, 11)],\n",
    "    'max_features': ['log2'],\n",
    "#     'max_features': [None, 'sqrt', 'log2'],\n",
    "    'class_weight': ['balanced'],\n",
    "    'n_jobs': [CV_kwargs['n_jobs']],\n",
    "    'random_state': [42]\n",
    "}\n",
    "\n",
    "forest = GridSearchCV(RandomForestClassifier(), forest_args, **CV_kwargs)"
   ]
  },
  {
   "cell_type": "code",
   "execution_count": 27,
   "metadata": {},
   "outputs": [
    {
     "name": "stdout",
     "output_type": "stream",
     "text": [
      "CPU times: user 8.71 s, sys: 401 ms, total: 9.11 s\n",
      "Wall time: 7min 29s\n"
     ]
    },
    {
     "data": {
      "text/plain": [
       "GridSearchCV(cv=10, estimator=RandomForestClassifier(), n_jobs=8,\n",
       "             param_grid={'class_weight': ['balanced'], 'criterion': ['gini'],\n",
       "                         'max_features': ['log2'],\n",
       "                         'min_samples_leaf': [1, 2, 3, 4, 5, 6, 7, 8, 9, 10],\n",
       "                         'min_samples_split': [2, 3, 4, 5, 6, 7, 8, 9, 10],\n",
       "                         'n_jobs': [8], 'random_state': [42]},\n",
       "             refit='f1_weighted',\n",
       "             scoring=['accuracy', 'roc_auc_ovr_weighted', 'precision_weighted',\n",
       "                      'recall_weighted', 'f1_weighted'])"
      ]
     },
     "execution_count": 27,
     "metadata": {},
     "output_type": "execute_result"
    }
   ],
   "source": [
    "%%time\n",
    "forest.fit(X_train, y_train)"
   ]
  },
  {
   "cell_type": "code",
   "execution_count": 28,
   "metadata": {},
   "outputs": [
    {
     "data": {
      "text/plain": [
       "{'class_weight': 'balanced',\n",
       " 'criterion': 'gini',\n",
       " 'max_features': 'log2',\n",
       " 'min_samples_leaf': 1,\n",
       " 'min_samples_split': 10,\n",
       " 'n_jobs': 8,\n",
       " 'random_state': 42}"
      ]
     },
     "execution_count": 28,
     "metadata": {},
     "output_type": "execute_result"
    }
   ],
   "source": [
    "forest.best_params_"
   ]
  },
  {
   "cell_type": "markdown",
   "metadata": {},
   "source": [
    "### MLP\n",
    "\n",
    "Para a MLP, optamos por não ultrapassar 2 camadas ocultas, cada uma no intervalo de `[50, 250]` neurônios (com step de 50); as funções de ativação testadas foram a logística e a tangente hiperbolica, as outras funções não pareceram interessantes de se testar (identidade e linear retificada); a taxa de aprendizado `alpha` variou em potências de 10 no intervalo `[-1, -4]`"
   ]
  },
  {
   "cell_type": "code",
   "execution_count": 29,
   "metadata": {},
   "outputs": [],
   "source": [
    "X_train = one_hot_df.drop(columns=['>50k'])\n",
    "y_train = one_hot_df['>50k']"
   ]
  },
  {
   "cell_type": "code",
   "execution_count": 81,
   "metadata": {},
   "outputs": [],
   "source": [
    "n_layers = [1, 2]\n",
    "n_neurons = [i for i in range(50, 251, 50)]\n",
    "\n",
    "layers = [tuple([n for i in range(l)]) for l in n_layers for n in n_neurons]"
   ]
  },
  {
   "cell_type": "code",
   "execution_count": 30,
   "metadata": {},
   "outputs": [],
   "source": [
    "mlp_args = {\n",
    "    'hidden_layer_sizes': [(i,) for i in range(50, 251, 50)],\n",
    "#     'hidden_layer_sizes': layers,\n",
    "    'activation': ['logistic', 'tanh'],\n",
    "    'alpha': [10 ** -4],\n",
    "#     'alpha': [10 ** -i for i in range(1, 5)],\n",
    "#     'max_iter': [10000],\n",
    "    'random_state': [42]\n",
    "}\n",
    "\n",
    "mlp = GridSearchCV(MLPClassifier(), mlp_args, **CV_kwargs)"
   ]
  },
  {
   "cell_type": "code",
   "execution_count": 31,
   "metadata": {},
   "outputs": [
    {
     "name": "stdout",
     "output_type": "stream",
     "text": [
      "CPU times: user 52 s, sys: 54.4 s, total: 1min 46s\n",
      "Wall time: 2min 15s\n"
     ]
    },
    {
     "data": {
      "text/plain": [
       "GridSearchCV(cv=10, estimator=MLPClassifier(), n_jobs=8,\n",
       "             param_grid={'activation': ['logistic', 'tanh'], 'alpha': [0.0001],\n",
       "                         'hidden_layer_sizes': [(50,), (100,), (150,), (200,),\n",
       "                                                (250,)],\n",
       "                         'random_state': [42]},\n",
       "             refit='f1_weighted',\n",
       "             scoring=['accuracy', 'roc_auc_ovr_weighted', 'precision_weighted',\n",
       "                      'recall_weighted', 'f1_weighted'])"
      ]
     },
     "execution_count": 31,
     "metadata": {},
     "output_type": "execute_result"
    }
   ],
   "source": [
    "%%time\n",
    "mlp.fit(X_train, y_train)"
   ]
  },
  {
   "cell_type": "code",
   "execution_count": 32,
   "metadata": {},
   "outputs": [
    {
     "data": {
      "text/plain": [
       "{'activation': 'tanh',\n",
       " 'alpha': 0.0001,\n",
       " 'hidden_layer_sizes': (250,),\n",
       " 'random_state': 42}"
      ]
     },
     "execution_count": 32,
     "metadata": {},
     "output_type": "execute_result"
    }
   ],
   "source": [
    "mlp.best_params_"
   ]
  },
  {
   "cell_type": "markdown",
   "metadata": {},
   "source": [
    "### Ensemble\n",
    "\n",
    "No comitê, foram testados os melhores modelos acima com 4 combinações possíveis dos hiperparâmetros `voting` e `weights`. Os pesos foram definidos como a pontuação (f1) que cada modelo obteve na validação"
   ]
  },
  {
   "cell_type": "code",
   "execution_count": 48,
   "metadata": {},
   "outputs": [],
   "source": [
    "X = norm.drop(columns=['>50k'])\n",
    "y = norm['>50k']"
   ]
  },
  {
   "cell_type": "code",
   "execution_count": 71,
   "metadata": {},
   "outputs": [],
   "source": [
    "algos = {'knn': knn, 'decision_tree': tree, 'random_forest': forest, 'mlp': mlp}\n",
    "estimators = [(k, v.best_estimator_) for k, v in algos.items()]\n",
    "weights = [v.best_score_ for k, v in algos.items()]\n",
    "\n",
    "ensemble_args1 = {\n",
    "    'voting': 'soft',\n",
    "    'weights': weights,\n",
    "}\n",
    "\n",
    "ensemble_args2 = {\n",
    "    'voting': 'soft',\n",
    "    'weights': None\n",
    "}\n",
    "\n",
    "ensemble_args3 = {\n",
    "    'voting': 'hard',\n",
    "    'weights': weights,\n",
    "}\n",
    "\n",
    "ensemble_args4 = {\n",
    "    'voting': 'hard',\n",
    "    'weights': None\n",
    "}\n",
    "\n",
    "common_args = {\n",
    "    'flatten_transform': False,\n",
    "    'n_jobs': -1\n",
    "}\n",
    "\n",
    "e1 = VotingClassifier(estimators, **ensemble_args1, **common_args)\n",
    "e2 = VotingClassifier(estimators, **ensemble_args2, **common_args)\n",
    "e3 = VotingClassifier(estimators, **ensemble_args3, **common_args)\n",
    "e4 = VotingClassifier(estimators, **ensemble_args4, **common_args)"
   ]
  },
  {
   "cell_type": "code",
   "execution_count": 77,
   "metadata": {},
   "outputs": [
    {
     "data": {
      "application/vnd.jupyter.widget-view+json": {
       "model_id": "d01439e4a1a9440ebe291a88a14df130",
       "version_major": 2,
       "version_minor": 0
      },
      "text/plain": [
       "HBox(children=(HTML(value=''), FloatProgress(value=0.0, max=10.0), HTML(value='')))"
      ]
     },
     "metadata": {},
     "output_type": "display_data"
    },
    {
     "name": "stdout",
     "output_type": "stream",
     "text": [
      "\n",
      "E1: 0.6291\n",
      "E2: 0.6195\n",
      "E3: 0.6583\n",
      "E4: 0.4061\n"
     ]
    }
   ],
   "source": [
    "n_folds = 10\n",
    "skf = StratifiedKFold(n_splits=n_folds)\n",
    "\n",
    "avrgs = {\n",
    "    'e1': 0,\n",
    "    'e4': 0,\n",
    "    'e3': 0,\n",
    "    'e2': 0\n",
    "}\n",
    "\n",
    "for train_index, val_index in tqdm(list(skf.split(X, y))):\n",
    "    X_train, X_val = X.iloc[train_index], X.iloc[val_index]\n",
    "    y_train, y_val = y.iloc[train_index], y.iloc[val_index]\n",
    "    \n",
    "    e1.fit(X_train, y_train)\n",
    "    e2.fit(X_train, y_train)\n",
    "    e3.fit(X_train, y_train)\n",
    "    e4.fit(X_train, y_train)\n",
    "    \n",
    "    avrgs['e1'] += f1_score(y_val, e1.predict(X_val))\n",
    "    avrgs['e2'] += f1_score(y_val, e2.predict(X_val))\n",
    "    avrgs['e3'] += f1_score(y_val, e3.predict(X_val))\n",
    "    avrgs['e4'] += f1_score(y_val, e4.predict(X_val))\n",
    "\n",
    "avrgs = { k: v/n_folds for k, v in avrgs.items() }\n",
    "\n",
    "print(f'E1: {avrgs[\"e1\"]:.4f}')\n",
    "print(f'E2: {avrgs[\"e2\"]:.4f}')\n",
    "print(f'E3: {avrgs[\"e3\"]:.4f}')\n",
    "print(f'E4: {avrgs[\"e4\"]:.4f}')"
   ]
  },
  {
   "cell_type": "code",
   "execution_count": 78,
   "metadata": {},
   "outputs": [],
   "source": [
    "ens = max([(e1, avrgs['e1']), (e2, avrgs['e2']), (e3, avrgs['e3']), (e4, avrgs['e4'])], key=lambda x: x[1])"
   ]
  },
  {
   "cell_type": "code",
   "execution_count": 79,
   "metadata": {},
   "outputs": [
    {
     "data": {
      "text/plain": [
       "(VotingClassifier(estimators=[('knn',\n",
       "                               KNeighborsClassifier(n_jobs=-1, n_neighbors=10,\n",
       "                                                    weights='distance')),\n",
       "                              ('decision_tree',\n",
       "                               DecisionTreeClassifier(class_weight='balanced',\n",
       "                                                      criterion='entropy',\n",
       "                                                      max_features='sqrt',\n",
       "                                                      random_state=42)),\n",
       "                              ('random_forest',\n",
       "                               RandomForestClassifier(class_weight='balanced',\n",
       "                                                      max_features='log2',\n",
       "                                                      min_samples_split=10,\n",
       "                                                      n_jobs=8,\n",
       "                                                      random_state=42)),\n",
       "                              ('mlp',\n",
       "                               MLPClassifier(activation='tanh',\n",
       "                                             hidden_layer_sizes=(250,),\n",
       "                                             random_state=42))],\n",
       "                  flatten_transform=False, n_jobs=-1, verbose=True,\n",
       "                  weights=[0.764400374574054, 0.8081760167704877,\n",
       "                           0.8570827650535673, 0.6727604330215985]),\n",
       " 0.6582794887130928)"
      ]
     },
     "execution_count": 79,
     "metadata": {},
     "output_type": "execute_result"
    }
   ],
   "source": [
    "ens"
   ]
  },
  {
   "cell_type": "markdown",
   "metadata": {},
   "source": [
    "## Results"
   ]
  },
  {
   "cell_type": "code",
   "execution_count": null,
   "metadata": {},
   "outputs": [],
   "source": [
    "X = norm.drop(columns=['>50k'])\n",
    "y = norm['>50k']\n",
    "\n",
    "res = {\n",
    "    'knn': {\n",
    "        'est': knn\n",
    "    },\n",
    "    'tree': {\n",
    "        'est': tree\n",
    "    },\n",
    "    'forest': {\n",
    "        'est': forest\n",
    "    },\n",
    "    'mlp': {\n",
    "        'est': mlp\n",
    "    },\n",
    "    'ens': {\n",
    "        'est': ens\n",
    "    }\n",
    "}\n",
    "\n",
    "n_folds = 10\n",
    "skf = StratifiedKFold(n_splits=n_folds)\n",
    "\n",
    "for train_index, val_index in tqdm(list(skf.split(X, y))):\n",
    "    "
   ]
  }
 ],
 "metadata": {
  "colab": {
   "collapsed_sections": [],
   "name": "projeto_final.ipynb",
   "provenance": []
  },
  "kernelspec": {
   "display_name": "Python 3",
   "language": "python",
   "name": "python3"
  },
  "language_info": {
   "codemirror_mode": {
    "name": "ipython",
    "version": 3
   },
   "file_extension": ".py",
   "mimetype": "text/x-python",
   "name": "python",
   "nbconvert_exporter": "python",
   "pygments_lexer": "ipython3",
   "version": "3.8.0"
  }
 },
 "nbformat": 4,
 "nbformat_minor": 1
}
